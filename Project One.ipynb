{
 "cells": [
  {
   "cell_type": "markdown",
   "metadata": {},
   "source": [
    "# Project One - ISM 4211\n",
    "## Database Systems & Physical Design"
   ]
  },
  {
   "cell_type": "code",
   "execution_count": 1,
   "metadata": {},
   "outputs": [
    {
     "name": "stdout",
     "output_type": "stream",
     "text": [
      "Index(['Unnamed: 0', 'show_id', 'type', 'title', 'director', 'cast', 'country',\n",
      "       'rating', 'release_year', 'year_added', 'duration_min',\n",
      "       'number_of_seasons', 'listed_in', 'description'],\n",
      "      dtype='object')\n"
     ]
    }
   ],
   "source": [
    "# Import Packages & Data\n",
    "\n",
    "import pandas as pd\n",
    "\n",
    "data = pd.read_csv(\"data.csv\")\n",
    "print(data.columns)"
   ]
  },
  {
   "cell_type": "markdown",
   "metadata": {},
   "source": [
    "### Exercise One"
   ]
  },
  {
   "cell_type": "code",
   "execution_count": 2,
   "metadata": {},
   "outputs": [
    {
     "name": "stdout",
     "output_type": "stream",
     "text": [
      "2\n",
      "5\n",
      "3291\n"
     ]
    }
   ],
   "source": [
    "# 1. How many movie titles mention the United States?\n",
    "# 2. How many movie descriptions mention the United States?\n",
    "# 3. How many movies are from the United States?\n",
    "\n",
    "# Question 1\n",
    "print(data[\"title\"].str.contains(\"United States\", case = True).sum())\n",
    "\n",
    "# Question 2\n",
    "print(data[\"description\"].str.contains(\"United States\", case = True).sum())\n",
    "\n",
    "# Question 3\n",
    "print(data[\"country\"].str.contains(\"United States\", case = True).sum())\n",
    "\n"
   ]
  },
  {
   "cell_type": "markdown",
   "metadata": {},
   "source": [
    "### Exercise Two"
   ]
  },
  {
   "cell_type": "code",
   "execution_count": 3,
   "metadata": {},
   "outputs": [
    {
     "name": "stdout",
     "output_type": "stream",
     "text": [
      "There are 67 directors named Paul in this dataset.\n"
     ]
    }
   ],
   "source": [
    "# Write a function to receieve a name as input, search the director only and return the number of movies/TV shows \n",
    "# that contain that name\n",
    "\n",
    "def director_amount(name):\n",
    "    count = data[\"director\"].str.contains(name, case = True).sum()\n",
    "    if count > 0:\n",
    "        message = f\"There are {count} directors named {name} in this dataset.\"\n",
    "    else:\n",
    "        message = f\"No directors were found with the name: {name}\"\n",
    "    return message\n",
    "\n",
    "director = input(\"Enter the name of the director: \")\n",
    "result = director_amount(director)\n",
    "print(result)"
   ]
  },
  {
   "cell_type": "markdown",
   "metadata": {},
   "source": [
    "### Exercise Three"
   ]
  },
  {
   "cell_type": "code",
   "execution_count": 4,
   "metadata": {},
   "outputs": [
    {
     "data": {
      "text/plain": [
       "[('a', 11),\n",
       " ('to', 8),\n",
       " ('his', 8),\n",
       " ('and', 5),\n",
       " ('the', 5),\n",
       " ('he', 4),\n",
       " ('of', 4),\n",
       " ('from', 3),\n",
       " ('for', 3),\n",
       " ('A', 2),\n",
       " ('has', 2),\n",
       " ('father', 2),\n",
       " ('with', 2),\n",
       " ('marry', 2),\n",
       " ('marrying', 2),\n",
       " ('love.', 2),\n",
       " ('on', 2),\n",
       " ('true', 2),\n",
       " ('after', 2),\n",
       " ('woman', 2)]"
      ]
     },
     "execution_count": 4,
     "metadata": {},
     "output_type": "execute_result"
    }
   ],
   "source": [
    "# Identify the most common words in the description of TOP TEN LONGEST MOVIES ONLY from the dataset. \n",
    "\n",
    "from collections import Counter\n",
    "\n",
    "sorted_data = data[data[\"type\"] == \"Movie\"].sort_values(\"duration_min\", ascending = False).head(10)\n",
    "Counter(\" \".join(sorted_data[\"description\"]).split()).most_common(20)"
   ]
  },
  {
   "cell_type": "markdown",
   "metadata": {},
   "source": [
    "### Exercise Four"
   ]
  },
  {
   "cell_type": "code",
   "execution_count": 5,
   "metadata": {},
   "outputs": [
    {
     "name": "stdout",
     "output_type": "stream",
     "text": [
      "(100, ['Angel Eyes', 'Lila & Eve', 'Monster-in-Law'])\n"
     ]
    }
   ],
   "source": [
    "# Write a function to receive a cast name as input, search the dataset and return their average move duration rounded up \n",
    "# a whole number, and a list of their movies from the list.\n",
    "\n",
    "import math\n",
    "\n",
    "def cast_name(first_name, last_name):\n",
    "    actor = data[data[\"cast\"].str.contains(first_name + \" \" + last_name, case = True, na = False)]\n",
    "    if len(actor) > 0:\n",
    "        avg_duration = math.ceil(actor[\"duration_min\"].mean())\n",
    "        movies_list = actor[\"title\"].tolist()\n",
    "        return avg_duration, movies_list\n",
    "    else:\n",
    "        return f\"No movie found for the artist: {first_name} {last_name}\"\n",
    "\n",
    "actor = cast_name(input(\"Enter the first name of the actor: \"), input(\"Enter the last name of the actor: \"))\n",
    "print(actor)\n",
    "\n"
   ]
  }
 ],
 "metadata": {
  "kernelspec": {
   "display_name": "Python 3",
   "language": "python",
   "name": "python3"
  },
  "language_info": {
   "codemirror_mode": {
    "name": "ipython",
    "version": 3
   },
   "file_extension": ".py",
   "mimetype": "text/x-python",
   "name": "python",
   "nbconvert_exporter": "python",
   "pygments_lexer": "ipython3",
   "version": "3.11.4"
  },
  "orig_nbformat": 4
 },
 "nbformat": 4,
 "nbformat_minor": 2
}
